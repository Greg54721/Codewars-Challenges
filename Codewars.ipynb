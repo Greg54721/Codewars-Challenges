{
 "cells": [
  {
   "cell_type": "markdown",
   "metadata": {},
   "source": [
    "# Kata 8"
   ]
  },
  {
   "cell_type": "markdown",
   "metadata": {},
   "source": [
    "## What is Between?"
   ]
  },
  {
   "cell_type": "markdown",
   "metadata": {},
   "source": [
    "Complete the function that takes two integers (a, b, where a < b) and return an array of all integers between the input parameters, including them."
   ]
  },
  {
   "cell_type": "code",
   "execution_count": 1,
   "metadata": {},
   "outputs": [
    {
     "name": "stdout",
     "output_type": "stream",
     "text": [
      "[1, 2, 3, 4]\n"
     ]
    }
   ],
   "source": [
    "def between(a,b):\n",
    "    lst = [i for i in range(a, b+1)]\n",
    "    print(lst)\n",
    "\n",
    "between(1, 4)"
   ]
  },
  {
   "cell_type": "markdown",
   "metadata": {},
   "source": [
    "## Well of Ideas - Easy Version"
   ]
  },
  {
   "cell_type": "markdown",
   "metadata": {},
   "source": [
    "For every good kata idea there seem to be quite a few bad ones!\n",
    "\n",
    "In this kata you need to check the provided array (x) for good ideas 'good' and bad ideas 'bad'. If there are one or two good ideas, return 'Publish!', if there are more than 2 return 'I smell a series!'. If there are no good ideas, as is often the case, return 'Fail!'."
   ]
  },
  {
   "cell_type": "code",
   "execution_count": 2,
   "metadata": {},
   "outputs": [
    {
     "name": "stdout",
     "output_type": "stream",
     "text": [
      "Fail!\n",
      "Publish!\n",
      "I smell a series!\n"
     ]
    }
   ],
   "source": [
    "def well(x):\n",
    "    dict = {i:x.count(i) for i in x}\n",
    "    if dict.get('good') == None:\n",
    "        print('Fail!')\n",
    "    elif dict.get('good') in range(1, 3):\n",
    "        print('Publish!')\n",
    "    elif dict.get('good') > 2:\n",
    "        print('I smell a series!')\n",
    "\n",
    "\n",
    "well(['bad', 'bad', 'bad'])\n",
    "well(['good', 'bad', 'bad', 'bad', 'bad'])\n",
    "well(['good', 'bad', 'bad', 'bad', 'bad', 'good', 'bad', 'bad', 'good'])"
   ]
  },
  {
   "cell_type": "markdown",
   "metadata": {},
   "source": [
    "## SumTheStrings"
   ]
  },
  {
   "cell_type": "markdown",
   "metadata": {},
   "source": [
    "Create a function that takes 2 positive integers in form of a string as an input, and outputs the sum (also as a string):"
   ]
  },
  {
   "cell_type": "code",
   "execution_count": 4,
   "metadata": {},
   "outputs": [
    {
     "name": "stdout",
     "output_type": "stream",
     "text": [
      "9\n",
      "34\n"
     ]
    }
   ],
   "source": [
    "def sum_str(a, b):\n",
    "    if a == '':\n",
    "        a = 0\n",
    "    if b == '':\n",
    "        b = 0\n",
    "    y = int(a) + int(b)\n",
    "    print(str(y))\n",
    "    \n",
    "sum_str(\"4\",\"5\")\n",
    "sum_str(\"34\",\"\")"
   ]
  },
  {
   "cell_type": "markdown",
   "metadata": {},
   "source": [
    "## Sum Mixed Array"
   ]
  },
  {
   "cell_type": "markdown",
   "metadata": {},
   "source": [
    "Given an array of integers as strings and numbers, return the sum of the array values as if all were numbers.\n",
    "\n",
    "Return your answer as a number."
   ]
  },
  {
   "cell_type": "code",
   "execution_count": 5,
   "metadata": {},
   "outputs": [
    {
     "name": "stdout",
     "output_type": "stream",
     "text": [
      "22\n"
     ]
    }
   ],
   "source": [
    "def sum_mix(arr):\n",
    "    for i, y in enumerate(arr):\n",
    "        arr[i] = int(y)\n",
    "    a = sum(arr)\n",
    "    print(a)\n",
    "\n",
    "sum_mix([9, 3, '7', '3'])"
   ]
  },
  {
   "cell_type": "markdown",
   "metadata": {},
   "source": [
    "## Sort and Star"
   ]
  },
  {
   "cell_type": "markdown",
   "metadata": {},
   "source": [
    "You will be given an vector of string(s). You must sort it alphabetically (case-sensitive!!) and then return the first value.\n",
    "\n",
    "The returned value must be a string, and have \"***\" between each of its letters.\n",
    "\n",
    "You should not remove or add elements from/to the array."
   ]
  },
  {
   "cell_type": "code",
   "execution_count": 6,
   "metadata": {},
   "outputs": [
    {
     "name": "stdout",
     "output_type": "stream",
     "text": [
      "b***i***t***c***o***i***n\n"
     ]
    }
   ],
   "source": [
    "def two_sort(array):\n",
    "    lst = sorted([i for i in array])\n",
    "    first = str(lst[0])\n",
    "    firststar = [str(i) + '***' for i in first]\n",
    "    print(''.join(firststar)[:-3])\n",
    "\n",
    "two_sort([\"bitcoin\", \"take\", \"over\", \"the\", \"world\", \"maybe\", \"who\", \"knows\", \"perhaps\"])"
   ]
  },
  {
   "cell_type": "markdown",
   "metadata": {},
   "source": [
    "## Reversed Strings"
   ]
  },
  {
   "cell_type": "markdown",
   "metadata": {},
   "source": [
    "Complete the solution so that it reverses the string value passed into it."
   ]
  },
  {
   "cell_type": "code",
   "execution_count": 7,
   "metadata": {},
   "outputs": [
    {
     "name": "stdout",
     "output_type": "stream",
     "text": [
      "dlrow\n",
      "\n",
      "h\n"
     ]
    }
   ],
   "source": [
    "def solution(string):\n",
    "    print(string[::-1])\n",
    "    \n",
    "    \n",
    "solution('world')\n",
    "solution('')\n",
    "solution('h')"
   ]
  },
  {
   "cell_type": "markdown",
   "metadata": {},
   "source": [
    "## RemoveStringSpaces"
   ]
  },
  {
   "cell_type": "markdown",
   "metadata": {},
   "source": [
    "Simple, remove the spaces from the string, then return the resultant string."
   ]
  },
  {
   "cell_type": "code",
   "execution_count": 8,
   "metadata": {},
   "outputs": [
    {
     "name": "stdout",
     "output_type": "stream",
     "text": [
      "8j8mBliB8gimjB8B8jlB\n"
     ]
    }
   ],
   "source": [
    "def no_space(x):\n",
    "    y = [i for i in x if i != ' ']\n",
    "    print(''.join(y))\n",
    "\n",
    "\n",
    "no_space('8 j 8   mBliB8g  imjB8B8  jl  B')"
   ]
  },
  {
   "cell_type": "markdown",
   "metadata": {},
   "source": [
    "## Regexp Basics - is it a digit"
   ]
  },
  {
   "cell_type": "markdown",
   "metadata": {},
   "source": [
    "Implement String#digit? (in Java StringUtils.isDigit(String)), which should return true if given object is a digit (0-9), false otherwise."
   ]
  },
  {
   "cell_type": "code",
   "execution_count": 9,
   "metadata": {},
   "outputs": [
    {
     "name": "stdout",
     "output_type": "stream",
     "text": [
      "False\n",
      "True\n",
      "False\n",
      "False\n",
      "False\n",
      "False\n"
     ]
    }
   ],
   "source": [
    "def is_digit(n):\n",
    "    if n.isdigit() == False:\n",
    "        print(n.isdigit())\n",
    "    elif (n.isdigit() == True) and (int(n) >= 10):\n",
    "        print('False')\n",
    "    elif (n.isdigit() == True) and (int(n) in range(0, 10)):\n",
    "        print('True')\n",
    "    \n",
    "\n",
    "is_digit(\"\")\n",
    "is_digit(\"7\")\n",
    "is_digit(\" \")\n",
    "is_digit(\"a\")\n",
    "is_digit(\"a5\")\n",
    "is_digit(\"10\")"
   ]
  },
  {
   "cell_type": "markdown",
   "metadata": {},
   "source": [
    "## Multiple of index"
   ]
  },
  {
   "cell_type": "markdown",
   "metadata": {},
   "source": [
    "Return a new array consisting of elements which are multiple of their own index in input array (length > 1)."
   ]
  },
  {
   "cell_type": "code",
   "execution_count": 10,
   "metadata": {},
   "outputs": [
    {
     "name": "stdout",
     "output_type": "stream",
     "text": [
      "[-6, 32, 25]\n"
     ]
    }
   ],
   "source": [
    "def multiple_of_index(arr):\n",
    "    lst = []\n",
    "    for i, y in enumerate(arr):\n",
    "        if i == 0:\n",
    "            pass\n",
    "        elif y % i == 0:\n",
    "            lst.append(y)\n",
    "    print(lst)\n",
    "\n",
    "\n",
    "multiple_of_index([22, -6, 32, 82, 9, 25])"
   ]
  },
  {
   "cell_type": "markdown",
   "metadata": {},
   "source": [
    "## Merging sorted integer arrays (without duplicates)"
   ]
  },
  {
   "cell_type": "markdown",
   "metadata": {},
   "source": [
    "Write a function that merges two sorted arrays into a single one. The arrays only contain integers. Also, the final outcome must be sorted and not have any duplicate."
   ]
  },
  {
   "cell_type": "code",
   "execution_count": 11,
   "metadata": {},
   "outputs": [
    {
     "name": "stdout",
     "output_type": "stream",
     "text": [
      "[1, 2, 3, 4, 5, 6]\n"
     ]
    }
   ],
   "source": [
    "def merge_arrays(first, second): \n",
    "    third = first + second\n",
    "    print(sorted(set(third)))\n",
    "\n",
    "\n",
    "merge_arrays([1, 3, 5], [2, 4, 6])"
   ]
  },
  {
   "cell_type": "markdown",
   "metadata": {},
   "source": [
    "## Is n Divisible by x and y?"
   ]
  },
  {
   "cell_type": "markdown",
   "metadata": {},
   "source": [
    "Create a function isDivisible(n, x, y) that checks if a number n is divisible by two numbers x AND y. All inputs are positive, non-zero digits."
   ]
  },
  {
   "cell_type": "code",
   "execution_count": 12,
   "metadata": {},
   "outputs": [
    {
     "data": {
      "text/plain": [
       "False"
      ]
     },
     "execution_count": 12,
     "metadata": {},
     "output_type": "execute_result"
    }
   ],
   "source": [
    "def is_divisible(n,x,y):\n",
    "    if n % x == 0 and n % y == 0:\n",
    "        return True\n",
    "        #print(True)\n",
    "    else:\n",
    "        return False\n",
    "        #print(False)\n",
    "\n",
    "is_divisible(10, 2, 3)"
   ]
  },
  {
   "cell_type": "markdown",
   "metadata": {},
   "source": [
    "## Grasshopper - Personalized Message"
   ]
  },
  {
   "cell_type": "markdown",
   "metadata": {},
   "source": [
    "Create a function that gives a personalized greeting. This function takes two parameters: name and owner.\n",
    "\n",
    "Use conditionals to return the proper message:\n",
    "\n",
    "Name equals owner = 'Hello boss'\n",
    "\n",
    "Otherwise = 'Hello guest'"
   ]
  },
  {
   "cell_type": "code",
   "execution_count": 13,
   "metadata": {},
   "outputs": [
    {
     "name": "stdout",
     "output_type": "stream",
     "text": [
      "Hello guest\n"
     ]
    }
   ],
   "source": [
    "def greet(name, owner):\n",
    "    if name == owner:\n",
    "        print('Hello boss')\n",
    "    else:\n",
    "        print('Hello guest')\n",
    "\n",
    "\n",
    "greet('Greg', 'Daniel')"
   ]
  },
  {
   "cell_type": "markdown",
   "metadata": {},
   "source": [
    "## ExpressionsMatter"
   ]
  },
  {
   "cell_type": "markdown",
   "metadata": {},
   "source": [
    "Given three integers a ,b ,c, return the largest number obtained after inserting the following operators and brackets: +, *, ()."
   ]
  },
  {
   "cell_type": "code",
   "execution_count": 51,
   "metadata": {},
   "outputs": [
    {
     "name": "stdout",
     "output_type": "stream",
     "text": [
      "9\n"
     ]
    }
   ],
   "source": [
    "def expression_matter(a, b, c):\n",
    "    units = [a, b, c]\n",
    "    operators = ['+', '*']\n",
    "    calculations1 = [[(i, j, k), l, m] for (y0, i) in enumerate(units) for j in operators for (y1, k) in enumerate(units) for l in operators for (y2, m) in enumerate(units) if y0 < y1 < y2]\n",
    "    calculations2 = [[i, j, (k, l, m)] for (y0, i) in enumerate(units) for j in operators for (y1, k) in enumerate(units) for l in operators for (y2, m) in enumerate(units) if y0 < y1 < y2]\n",
    "    calculations = calculations1 + calculations2\n",
    "    maxlst = []\n",
    "    maxlst2 = []\n",
    "    for i in calculations:\n",
    "        if isinstance(i[0], tuple):\n",
    "            expr1 = '(' + ' '.join(str(x) for x in i[0]) + ')' + ' ' + ' '.join(str(x) for x in i[1]) + ' ' + str(i[2])\n",
    "            maxlst.append(expr1)\n",
    "        else:\n",
    "            expr2 = str(i[0]) + ' ' + ' '.join(str(x) for x in i[1]) + ' ' + '(' + ' '.join(str(x) for x in i[2]) + ')'\n",
    "            maxlst.append(expr2)\n",
    "    for i in maxlst:\n",
    "        maxlst2.append(eval(i))\n",
    "    print(max(maxlst2))\n",
    "    \n",
    "expression_matter(1, 2, 3)"
   ]
  },
  {
   "cell_type": "markdown",
   "metadata": {},
   "source": [
    "## DrawStairs"
   ]
  },
  {
   "cell_type": "markdown",
   "metadata": {},
   "source": [
    "Given a number n, draw stairs using the letter \"I\", n tall and n wide, with the tallest in the top left."
   ]
  },
  {
   "cell_type": "code",
   "execution_count": 52,
   "metadata": {},
   "outputs": [
    {
     "name": "stdout",
     "output_type": "stream",
     "text": [
      "I\n",
      " I\n",
      "  I\n"
     ]
    }
   ],
   "source": [
    "def draw_stairs(n):\n",
    "    a = []\n",
    "    for i in range(n-1):\n",
    "        a.append(' ' * i + 'I\\n')\n",
    "    a.append(' ' * (n-1) + 'I')\n",
    "    print(''.join(a))\n",
    "    \n",
    "draw_stairs(3)"
   ]
  },
  {
   "cell_type": "markdown",
   "metadata": {},
   "source": [
    "## Do I get a bonus"
   ]
  },
  {
   "cell_type": "markdown",
   "metadata": {},
   "source": [
    "It's bonus time in the big city! The fatcats are rubbing their paws in anticipation... but who is going to make the most money?\n",
    "\n",
    "Build a function that takes in two arguments (salary, bonus). Salary will be an integer, and bonus a boolean.\n",
    "\n",
    "If bonus is true, the salary should be multiplied by 10. If bonus is false, the fatcat did not make enough money and must receive only his stated salary.\n",
    "\n",
    "Return the total figure the individual will receive as a string prefixed with \"£\" (= \"\\u00A3\", JS, Go, and Java), \"$\" (C#, C++, Ruby, Clojure, Elixir, PHP and Python, Haskell, Lua) or \"¥\" (Rust)."
   ]
  },
  {
   "cell_type": "code",
   "execution_count": 53,
   "metadata": {},
   "outputs": [
    {
     "name": "stdout",
     "output_type": "stream",
     "text": [
      "$100000\n"
     ]
    }
   ],
   "source": [
    "def bonus_time(salary, bonus):\n",
    "    if bonus == True:\n",
    "        print('$' + str(salary * 10))\n",
    "    else:\n",
    "        print('$' +  str(salary))\n",
    "\n",
    "bonus_time(10000, True)"
   ]
  },
  {
   "cell_type": "markdown",
   "metadata": {},
   "source": [
    "## Century From Year"
   ]
  },
  {
   "cell_type": "markdown",
   "metadata": {},
   "source": [
    "The first century spans from the year 1 up to and including the year 100, The second - from the year 101 up to and including the year 200, etc.\n",
    "\n",
    "Given a year, return the century it is in."
   ]
  },
  {
   "cell_type": "code",
   "execution_count": 19,
   "metadata": {},
   "outputs": [
    {
     "name": "stdout",
     "output_type": "stream",
     "text": [
      "19\n",
      "18\n"
     ]
    }
   ],
   "source": [
    "def century(year):\n",
    "    for i in str(year).split():\n",
    "        if int(i[-2]) == 0 and int(i[-1]) in range(1, 10):\n",
    "            print((year // 100) + 1)\n",
    "        elif int(i[-2]) > 0 and int(i[-1]) in range(0, 10):\n",
    "            print((year // 100) + 1)\n",
    "        else:\n",
    "            print(year // 100)\n",
    "            \n",
    "century(1801)\n",
    "century(1800)"
   ]
  },
  {
   "cell_type": "markdown",
   "metadata": {},
   "source": [
    "## Beginner - Lost Without a Map"
   ]
  },
  {
   "cell_type": "markdown",
   "metadata": {},
   "source": [
    "Given an array of integers, return a new array with each value doubled."
   ]
  },
  {
   "cell_type": "code",
   "execution_count": 20,
   "metadata": {},
   "outputs": [
    {
     "name": "stdout",
     "output_type": "stream",
     "text": [
      "[2, 4, 6]\n"
     ]
    }
   ],
   "source": [
    "def maps(a):\n",
    "    b = map(lambda x: x*2, a)\n",
    "    print(list(b))\n",
    "\n",
    "\n",
    "maps([1, 2, 3])"
   ]
  },
  {
   "cell_type": "markdown",
   "metadata": {},
   "source": [
    "## Area of a Square"
   ]
  },
  {
   "attachments": {
    "image.png": {
     "image/png": "[encoded data removed]"
    }
   },
   "cell_type": "markdown",
   "metadata": {},
   "source": [
    "Complete the function that calculates the area of the red square, when the length of the circular arc A is given as the input. Return the result rounded to two decimals.\n",
    "\n",
    "![image.png](attachment:image.png)"
   ]
  },
  {
   "cell_type": "code",
   "execution_count": 21,
   "metadata": {},
   "outputs": [
    {
     "name": "stdout",
     "output_type": "stream",
     "text": [
      "1.62\n",
      "0.0\n",
      "80.0\n",
      "0.41\n",
      "4052.85\n"
     ]
    }
   ],
   "source": [
    "import math\n",
    "\n",
    "def square_area(A):\n",
    "    #circumference: C = 2 * pi * r\n",
    "    #radius = C / (2 * pi)\n",
    "    #Argument A represents 1/4 of the circumference, therefore C = 4 * A\n",
    "    #Diameter of circle equal to side length of square\n",
    "    #quare area = length * height\n",
    "    C = 4 * A\n",
    "    Radius = C / (2 * math.pi)\n",
    "    #Diameter = 2 * Radius\n",
    "    SquareArea = Radius ** 2\n",
    "    print(round(SquareArea, 2))\n",
    "\n",
    "square_area(2)\n",
    "square_area(0)\n",
    "square_area(14.05)\n",
    "square_area(1)\n",
    "square_area(100)"
   ]
  },
  {
   "cell_type": "markdown",
   "metadata": {},
   "source": [
    "## Alan Partridge II - Apple Turnover"
   ]
  },
  {
   "cell_type": "markdown",
   "metadata": {},
   "source": [
    "Alan is known for referring to the temperature of the apple turnover as 'Hotter than the sun!'. According to space.com the temperature of the sun's corona is 2,000,000 degrees C, but we will ignore the science for now.\n",
    "\n",
    "Your job is simple, if (x) squared is more than 1000, return 'It's hotter than the sun!!', else, return 'Help yourself to a honeycomb Yorkie for the glovebox.'.\n",
    "\n",
    "X will be either a number or a string. Both are valid."
   ]
  },
  {
   "cell_type": "code",
   "execution_count": 22,
   "metadata": {},
   "outputs": [
    {
     "name": "stdout",
     "output_type": "stream",
     "text": [
      "It's hotter than the sun!\n",
      "Help yourself to a honeycomb Yorkie for the glovebox\n",
      "Help yourself to a honeycomb Yorkie for the glovebox\n",
      "It's hotter than the sun!\n"
     ]
    }
   ],
   "source": [
    "def apple(x):\n",
    "    if (int(x) ** 2) >= 1000:\n",
    "        print(\"It's hotter than the sun!\") \n",
    "    else:\n",
    "        print('Help yourself to a honeycomb Yorkie for the glovebox')\n",
    "\n",
    "apple('50')\n",
    "apple(4)\n",
    "apple(\"12\")\n",
    "apple(60)"
   ]
  },
  {
   "cell_type": "markdown",
   "metadata": {},
   "source": [
    "# Kata 7"
   ]
  },
  {
   "cell_type": "markdown",
   "metadata": {},
   "source": [
    "## Sum of powers of 2"
   ]
  },
  {
   "cell_type": "markdown",
   "metadata": {},
   "source": [
    "Given a number n, you should find a set of numbers for which the sum equals n. This set must consist exclusively of values that are a power of 2 (eg: 2^0 => 1, 2^1 => 2, 2^2 => 4, ...).\n",
    "\n",
    "The function powers takes a single parameter, the number n, and should return an array of unique numbers.\n",
    "\n",
    "Criteria\n",
    "The function will always receive a valid input: any positive integer between 1 and the max integer value for your language (eg: for JavaScript this would be 9007199254740991 otherwise known as Number.MAX_SAFE_INTEGER).\n",
    "\n",
    "The function should return an array of numbers that are a power of 2 (2^x = y).\n",
    "\n",
    "Each member of the returned array should be unique. (eg: the valid answer for powers(2) is [2], not [1, 1])\n",
    "\n",
    "Members should be sorted in ascending order (small -> large). (eg: the valid answer for powers(6) is [2, 4], not [4, 2])"
   ]
  },
  {
   "cell_type": "code",
   "execution_count": 27,
   "metadata": {},
   "outputs": [
    {
     "name": "stdout",
     "output_type": "stream",
     "text": [
      "[1]\n",
      "[2]\n",
      "[2, 4]\n"
     ]
    }
   ],
   "source": [
    "'''This problem solves the initial tests but is very inefficient and requires reworking'''\n",
    "\n",
    "def powers(n):\n",
    "    lst = [2 ** i for i in range(n)]\n",
    "    lst2 = set([tuple(sorted((i, y))) for i in lst for y in lst if i + y == n and i != y])\n",
    "    lst3 = [i for i in lst if i == n]\n",
    "    lst25 = [y for i in lst2 for y in i]\n",
    "    lst4 = lst3 + lst25\n",
    "    print(lst4)\n",
    "\n",
    "        \n",
    "powers(1)\n",
    "powers(2)\n",
    "powers(6)"
   ]
  },
  {
   "cell_type": "markdown",
   "metadata": {},
   "source": [
    "## Simple Fun #37: House Numbers Sum"
   ]
  },
  {
   "cell_type": "markdown",
   "metadata": {},
   "source": [
    "A boy is walking a long way from school to his home. To make the walk more fun he decides to add up all the numbers of the houses that he passes by during his walk. Unfortunately, not all of the houses have numbers written on them, and on top of that the boy is regularly taking turns to change streets, so the numbers don't appear to him in any particular order.\n",
    "\n",
    "At some point during the walk the boy encounters a house with number 0 written on it, which surprises him so much that he stops adding numbers to his total right after seeing that house.\n",
    "\n",
    "For the given sequence of houses determine the sum that the boy will get. It is guaranteed that there will always be at least one 0 house on the path."
   ]
  },
  {
   "cell_type": "code",
   "execution_count": 24,
   "metadata": {},
   "outputs": [
    {
     "name": "stdout",
     "output_type": "stream",
     "text": [
      "11\n"
     ]
    }
   ],
   "source": [
    "def house_numbers_sum(inp):\n",
    "    lst, i = [[], 0]\n",
    "    while i in range(len(inp)):\n",
    "        if inp[i] == 0:\n",
    "            break\n",
    "        else:\n",
    "            lst.append(inp[i])\n",
    "        i += 1\n",
    "    print(sum(lst))\n",
    "    \n",
    "    \n",
    "house_numbers_sum([5, 1, 2, 3, 0, 1, 5, 0, 2])"
   ]
  },
  {
   "cell_type": "markdown",
   "metadata": {},
   "source": [
    "## LoveVsFriendship"
   ]
  },
  {
   "cell_type": "markdown",
   "metadata": {},
   "source": [
    "If　a = 1, b = 2, c = 3 ... z = 26\n",
    "\n",
    "Then l + o + v + e = 54\n",
    "\n",
    "and f + r + i + e + n + d + s + h + i + p = 108\n",
    "\n",
    "So friendship is twice stronger than love :-)\n",
    "\n",
    "The input will always be in lowercase and never be empty."
   ]
  },
  {
   "cell_type": "code",
   "execution_count": 25,
   "metadata": {},
   "outputs": [
    {
     "name": "stdout",
     "output_type": "stream",
     "text": [
      "100\n"
     ]
    }
   ],
   "source": [
    "def words_to_marks(s):\n",
    "    import string\n",
    "\n",
    "    a = [(i, y) for (i, y) in enumerate(string.ascii_lowercase, 1)]\n",
    "    b = [y[0] for y in a for i in s if i in y[1]]\n",
    "\n",
    "    print(sum(b))\n",
    "\n",
    "    \n",
    "words_to_marks('attitude')"
   ]
  },
  {
   "cell_type": "markdown",
   "metadata": {},
   "source": [
    "## Find all occurrences of an element in an array"
   ]
  },
  {
   "cell_type": "markdown",
   "metadata": {},
   "source": [
    "Given an array (a list in Python) of integers and an integer n, find all occurrences of n in the given array and return another array containing all the index positions of n in the given array.\n",
    "\n",
    "If n is not in the given array, return an empty array [].\n",
    "\n",
    "Assume that n and all values in the given array will always be integers."
   ]
  },
  {
   "cell_type": "code",
   "execution_count": 26,
   "metadata": {},
   "outputs": [
    {
     "name": "stdout",
     "output_type": "stream",
     "text": [
      "[2, 4]\n",
      "[1, 9]\n",
      "[0, 1, 8]\n"
     ]
    }
   ],
   "source": [
    "def find_all(array, n):\n",
    "    lst = [i for (i, y) in enumerate(array) if y == n]\n",
    "    print(lst)\n",
    "\n",
    "\n",
    "find_all([6, 9, 3, 4, 3, 82, 11], 3)\n",
    "find_all([10, 16, 20, 6, 14, 11, 20, 2, 17, 16, 14], 16)\n",
    "find_all([20, 20, 10, 13, 15, 2, 7, 2, 20, 3, 18, 2, 3, 2, 16, 10, 9, 9, 7, 5, 15, 5], 20)"
   ]
  },
  {
   "cell_type": "markdown",
   "metadata": {},
   "source": [
    "## Credit Card Mask"
   ]
  },
  {
   "cell_type": "markdown",
   "metadata": {},
   "source": [
    "Usually when you buy something, you're asked whether your credit card number, phone number or answer to your most secret question is still correct. However, since someone could look over your shoulder, you don't want that shown on your screen. Instead, we mask it.\n",
    "\n",
    "Your task is to write a function maskify, which changes all but the last four characters into '#'."
   ]
  },
  {
   "cell_type": "code",
   "execution_count": 31,
   "metadata": {},
   "outputs": [
    {
     "name": "stdout",
     "output_type": "stream",
     "text": [
      "############5616\n",
      "#######5616\n",
      "1\n",
      "\n"
     ]
    }
   ],
   "source": [
    "def maskify(cc):\n",
    "    a = [i for i in str(cc)]\n",
    "    b = []\n",
    "    for i, y in enumerate(a):\n",
    "        if i in range(0, len(a)-4):\n",
    "            b.append('#')\n",
    "        else:\n",
    "            b.append(y)\n",
    "    c = ''.join(b)\n",
    "    print(c)\n",
    "\n",
    "maskify(\"4556364607935616\")\n",
    "maskify(     \"64607935616\")\n",
    "maskify(               \"1\")\n",
    "maskify(                \"\")"
   ]
  },
  {
   "cell_type": "markdown",
   "metadata": {},
   "source": [
    "## Growth of a Population"
   ]
  },
  {
   "cell_type": "markdown",
   "metadata": {},
   "source": [
    "n a small town the population is p0 = 1000 at the beginning of a year. The population regularly increases by 2 percent per year and moreover 50 new inhabitants per year come to live in the town. How many years does the town need to see its population greater or equal to p = 1200 inhabitants?\n",
    "\n",
    "At the end of the first year there will be: \n",
    "1000 + 1000 * 0.02 + 50 => 1070 inhabitants\n",
    "\n",
    "At the end of the 2nd year there will be: \n",
    "1070 + 1070 * 0.02 + 50 => 1141 inhabitants (number of inhabitants is an integer)\n",
    "\n",
    "At the end of the 3rd year there will be:\n",
    "1141 + 1141 * 0.02 + 50 => 1213\n",
    "\n",
    "It will need 3 entire years.\n",
    "More generally given parameters:\n",
    "\n",
    "p0, percent, aug (inhabitants coming or leaving each year), p (population to surpass)\n",
    "\n",
    "the function nb_year should return n number of entire years needed to get a population greater or equal to p.\n",
    "\n",
    "aug is an integer, percent a positive or null number, p0 and p are positive integers (> 0)"
   ]
  },
  {
   "cell_type": "code",
   "execution_count": 32,
   "metadata": {},
   "outputs": [
    {
     "name": "stdout",
     "output_type": "stream",
     "text": [
      "15\n",
      "10\n"
     ]
    }
   ],
   "source": [
    "def nb_year(p0, percent, aug, p):\n",
    "    pi = p0\n",
    "    n, num = 0, 0\n",
    "    while p0 <= p:\n",
    "        num += 1\n",
    "        if n >= p:\n",
    "            break\n",
    "        else:\n",
    "            pi += (pi * (percent/100)) + aug\n",
    "            n = pi\n",
    "    print(num-1)\n",
    "\n",
    "nb_year(1500, 5, 100, 5000)\n",
    "nb_year(1500000, 2.5, 10000, 2000000)"
   ]
  },
  {
   "cell_type": "markdown",
   "metadata": {},
   "source": [
    "## Shortest Word"
   ]
  },
  {
   "cell_type": "markdown",
   "metadata": {},
   "source": [
    "Simple, given a string of words, return the length of the shortest word(s).\n",
    "\n",
    "String will never be empty and you do not need to account for different data types."
   ]
  },
  {
   "cell_type": "code",
   "execution_count": 34,
   "metadata": {},
   "outputs": [
    {
     "name": "stdout",
     "output_type": "stream",
     "text": [
      "3\n",
      "3\n",
      "3\n",
      "1\n",
      "2\n"
     ]
    }
   ],
   "source": [
    "def find_short(s):\n",
    "    import string\n",
    "    l = min([len(i) for i in s.split(' ') for elem in string.punctuation if s.replace(elem, '')])\n",
    "    print(l)\n",
    "    \n",
    "find_short(\"bitcoin take over the world maybe who knows perhaps\")\n",
    "find_short(\"turns out random test cases are easier than writing out basic ones\")\n",
    "find_short(\"lets talk about javascript the best language\")\n",
    "find_short(\"i want to travel the world writing code one day\")\n",
    "find_short(\"Lets all go on holiday somewhere very cold\")"
   ]
  },
  {
   "cell_type": "markdown",
   "metadata": {},
   "source": [
    "# Kata 6"
   ]
  },
  {
   "cell_type": "markdown",
   "metadata": {},
   "source": [
    "## Array.diff"
   ]
  },
  {
   "cell_type": "markdown",
   "metadata": {},
   "source": [
    "Your goal in this kata is to implement a difference function, which subtracts one list from another and returns the result.\n",
    "\n",
    "It should remove all values from list a, which are present in list b."
   ]
  },
  {
   "cell_type": "code",
   "execution_count": 35,
   "metadata": {},
   "outputs": [
    {
     "name": "stdout",
     "output_type": "stream",
     "text": [
      "[2]\n",
      "[1, 3]\n"
     ]
    }
   ],
   "source": [
    "def array_diff(a, b):\n",
    "    c = [i for i in a if i not in b]\n",
    "    print(c)\n",
    "    \n",
    "array_diff([1,2],[1])\n",
    "array_diff([1,2,2,2,3],[2])"
   ]
  },
  {
   "cell_type": "markdown",
   "metadata": {},
   "source": [
    "## Playing with digits"
   ]
  },
  {
   "cell_type": "markdown",
   "metadata": {},
   "source": [
    "Some numbers have funny properties. For example:\n",
    "\n",
    "89 --> 8¹ + 9² = 89 * 1\n",
    "\n",
    "695 --> 6² + 9³ + 5⁴= 1390 = 695 * 2\n",
    "\n",
    "46288 --> 4³ + 6⁴+ 2⁵ + 8⁶ + 8⁷ = 2360688 = 46288 * 51\n",
    "\n",
    "Given a positive integer n written as abcd... (a, b, c, d... being digits) and a positive integer p\n",
    "\n",
    "we want to find a positive integer k, if it exists, such as the sum of the digits of n taken to the successive powers of p is equal to k * n.\n",
    "In other words:\n",
    "\n",
    "Is there an integer k such as : (a ^ p + b ^ (p+1) + c ^(p+2) + d ^ (p+3) + ...) = n * k\n",
    "\n",
    "If it is the case we will return k, if not return -1.\n",
    "\n",
    "Note: n and p will always be given as strictly positive integers."
   ]
  },
  {
   "cell_type": "code",
   "execution_count": 40,
   "metadata": {},
   "outputs": [
    {
     "name": "stdout",
     "output_type": "stream",
     "text": [
      "1\n",
      "-1\n",
      "2\n",
      "51\n"
     ]
    }
   ],
   "source": [
    "def dig_pow(n, p):\n",
    "    b, c, d, formula = [[int(i) for i in str(n)], 0, n, []]\n",
    "    while c in range(len(b)):\n",
    "        for i in b:\n",
    "            formula.append(i ** p)\n",
    "            p, c = [p + 1, c + 1]\n",
    "    if sum(formula) % d == 0:\n",
    "        print(int(sum(formula) / n))\n",
    "    else:\n",
    "        print(int(-1))\n",
    "        \n",
    "dig_pow(89, 1)\n",
    "dig_pow(92, 1)\n",
    "dig_pow(695, 2)\n",
    "dig_pow(46288, 3)"
   ]
  },
  {
   "cell_type": "markdown",
   "metadata": {},
   "source": [
    "## Take a Ten Minute Walk"
   ]
  },
  {
   "cell_type": "markdown",
   "metadata": {},
   "source": [
    "You live in the city of Cartesia where all roads are laid out in a perfect grid. You arrived ten minutes too early to an appointment, so you decided to take the opportunity to go for a short walk. The city provides its citizens with a Walk Generating App on their phones -- everytime you press the button it sends you an array of one-letter strings representing directions to walk (eg. ['n', 's', 'w', 'e']). You always walk only a single block in a direction and you know it takes you one minute to traverse one city block, so create a function that will return true if the walk the app gives you will take you exactly ten minutes (you don't want to be early or late!) and will, of course, return you to your starting point. Return false otherwise.\n",
    "\n",
    "Note: you will always receive a valid array containing a random assortment of direction letters ('n', 's', 'e', or 'w' only). It will never give you an empty array (that's not a walk, that's standing still!)."
   ]
  },
  {
   "cell_type": "code",
   "execution_count": 43,
   "metadata": {},
   "outputs": [
    {
     "data": {
      "text/plain": [
       "True"
      ]
     },
     "execution_count": 43,
     "metadata": {},
     "output_type": "execute_result"
    }
   ],
   "source": [
    "def isValidWalk(walk):\n",
    "    walk_dict = {'n': 1, 's': -1, 'e': 1, 'w': -1}\n",
    "    times, north_south, east_west = 0, 0, 0\n",
    "    while times in range(0, len(walk)):\n",
    "        if times > 10:\n",
    "            return False\n",
    "            break\n",
    "        else:\n",
    "            for i in walk:\n",
    "                if i in ('n', 's'):\n",
    "                    north_south += walk_dict.get(i)\n",
    "                elif i in ('e', 'w'):\n",
    "                    east_west += walk_dict.get(i)\n",
    "                times += 1\n",
    "            if times == 10 and north_south == 0 and east_west == 0:\n",
    "                return True\n",
    "            else:\n",
    "                return False\n",
    "            \n",
    "isValidWalk(['n','s','n','s','n','s','n','s','n','s'])"
   ]
  },
  {
   "cell_type": "markdown",
   "metadata": {},
   "source": [
    "## Find The Parity Outlier"
   ]
  },
  {
   "cell_type": "markdown",
   "metadata": {},
   "source": [
    "You are given an array (which will have a length of at least 3, but could be very large) containing integers. The array is either entirely comprised of odd integers or entirely comprised of even integers except for a single integer N. Write a method that takes the array as an argument and returns this \"outlier\" N."
   ]
  },
  {
   "cell_type": "code",
   "execution_count": 45,
   "metadata": {},
   "outputs": [
    {
     "name": "stdout",
     "output_type": "stream",
     "text": [
      "11\n",
      "160\n"
     ]
    }
   ],
   "source": [
    "def find_outlier(integers):\n",
    "    evens = [i for i in integers if i % 2 == 0]\n",
    "    odds = [i for i in integers if i % 2 == 1]\n",
    "    if len(evens) > len(odds):\n",
    "        print(odds[0])\n",
    "    else:\n",
    "        print(evens[0])\n",
    "    \n",
    "find_outlier([2, 4, 0, 100, 4, 11, 2602, 36])\n",
    "find_outlier([160, 3, 1719, 19, 11, 13, -21])"
   ]
  },
  {
   "cell_type": "markdown",
   "metadata": {},
   "source": [
    "## Are they the \"same\"?"
   ]
  },
  {
   "cell_type": "markdown",
   "metadata": {},
   "source": [
    "Given two arrays a and b write a function comp(a, b) (compSame(a, b) in Clojure) that checks whether the two arrays have the \"same\" elements, with the same multiplicities. \"Same\" means, here, that the elements in b are the elements in a squared, regardless of the order."
   ]
  },
  {
   "cell_type": "code",
   "execution_count": 47,
   "metadata": {},
   "outputs": [
    {
     "name": "stdout",
     "output_type": "stream",
     "text": [
      "True\n",
      "False\n"
     ]
    }
   ],
   "source": [
    "def comp(array1, array2):\n",
    "    if array1 is None or array2 is None:\n",
    "        return False\n",
    "    else:\n",
    "        array1_new = sorted([x**2 for x in array1 if x is not None])\n",
    "        array2_new = sorted([x for x in array2 if x is not None])\n",
    "        if array1_new == array2_new:\n",
    "            print('True')\n",
    "        else:\n",
    "            print('False')\n",
    "    \n",
    "comp([121, 144, 19, 161, 19, 144, 19, 11], [121, 14641, 20736, 361, 25921, 361, 20736, 361])\n",
    "comp([121, 144, 19, 161, 19, 144, 19, 11], [132, 14641, 20736, 361, 25921, 361, 20736, 361])"
   ]
  },
  {
   "cell_type": "markdown",
   "metadata": {},
   "source": [
    "## Your order, please"
   ]
  },
  {
   "cell_type": "markdown",
   "metadata": {},
   "source": [
    "Your task is to sort a given string. Each word in the string will contain a single number. This number is the position the word should have in the result.\n",
    "\n",
    "Note: Numbers can be from 1 to 9. So 1 will be the first word (not 0).\n",
    "\n",
    "If the input string is empty, return an empty string. The words in the input String will only contain valid consecutive numbers."
   ]
  },
  {
   "cell_type": "code",
   "execution_count": 48,
   "metadata": {},
   "outputs": [
    {
     "name": "stdout",
     "output_type": "stream",
     "text": [
      "Thi1s is2 3a T4est\n",
      "Fo1r the2 g3ood 4of th5e pe6ople\n",
      "\n"
     ]
    }
   ],
   "source": [
    "def order(sentence):\n",
    "    a = [i for i in sentence.split(' ')]\n",
    "    b = sorted([y for i in a for y in i if y.isdigit()])\n",
    "    c = [(y, i) for i in a for y in b if y in i]\n",
    "    d = [i[1] for i in sorted(c)]\n",
    "    str1 = ' '.join(d)\n",
    "    print(str1)\n",
    "    \n",
    "order(\"is2 Thi1s T4est 3a\")\n",
    "order(\"4of Fo1r pe6ople g3ood th5e the2\")\n",
    "order(\"\")"
   ]
  },
  {
   "cell_type": "markdown",
   "metadata": {},
   "source": [
    "# Kata 5"
   ]
  },
  {
   "cell_type": "markdown",
   "metadata": {},
   "source": [
    "## MaximumSubarraySum"
   ]
  },
  {
   "cell_type": "markdown",
   "metadata": {},
   "source": [
    "The maximum sum subarray problem consists in finding the maximum sum of a contiguous subsequence in an array or list of integers:\n",
    "\n",
    "maxSequence([-2, 1, -3, 4, -1, 2, 1, -5, 4])\n",
    "should be 6: [4, -1, 2, 1]\n",
    "Easy case is when the list is made up of only positive numbers and the maximum sum is the sum of the whole array. If the list is made up of only negative numbers, return 0 instead.\n",
    "\n",
    "Empty list is considered to have zero greatest sum. Note that the empty list or array is also a valid sublist/subarray."
   ]
  },
  {
   "cell_type": "code",
   "execution_count": 49,
   "metadata": {},
   "outputs": [
    {
     "name": "stdout",
     "output_type": "stream",
     "text": [
      "6\n"
     ]
    }
   ],
   "source": [
    "def maxSequence(arr):\n",
    "    total_arr, curr_arr_max = 0, 0\n",
    "    curr_arr = [arr[i: y] for i in range(len(arr) + 1) for y in range(len(arr) + 1) if arr[i:y]]\n",
    "    curr_arr_sum = [sum(i) for i in curr_arr]\n",
    "    curr_arr_max = max(curr_arr_sum, default=0)\n",
    "    if total_arr < curr_arr_max:\n",
    "        total_arr = curr_arr_max\n",
    "    print(total_arr)\n",
    "    \n",
    "maxSequence([-2, 1, -3, 4, -1, 2, 1, -5, 4])"
   ]
  }
 ],
 "metadata": {
  "kernelspec": {
   "display_name": "Python 3",
   "language": "python",
   "name": "python3"
  },
  "language_info": {
   "codemirror_mode": {
    "name": "ipython",
    "version": 3
   },
   "file_extension": ".py",
   "mimetype": "text/x-python",
   "name": "python",
   "nbconvert_exporter": "python",
   "pygments_lexer": "ipython3",
   "version": "3.7.5"
  }
 },
 "nbformat": 4,
 "nbformat_minor": 4
}
